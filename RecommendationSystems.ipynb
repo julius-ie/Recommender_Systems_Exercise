{
 "cells": [
  {
   "cell_type": "code",
   "execution_count": null,
   "metadata": {},
   "outputs": [],
   "source": [
    "# Read the movies database\n",
    "import pandas as pd\n",
    "import numpy as np\n",
    "from sklearn.metrics.pairwise import cosine_distances\n",
    "\n",
    "ratings_df = pd.read_csv('u.data', sep='\\t', index_col=False, names=['userId', 'movieId', 'rating'])\n",
    "movies_df = pd.read_csv('u.item', sep='|', header=0, index_col=False, encoding='ISO-8859-1')\n",
    "\n",
    "# Add a column with the centered ratings\n",
    "average_df = ratings_df[['userId', 'rating']].groupby(['userId'], as_index=False).mean().rename(columns={'rating': 'average'})\n",
    "ratings_df = pd.merge(ratings_df, average_df, on='userId', how='left')\n",
    "ratings_df['rating_centered'] = ratings_df['rating'] - ratings_df['average']\n",
    "ratings_df"
   ]
  },
  {
   "cell_type": "code",
   "execution_count": null,
   "metadata": {},
   "outputs": [],
   "source": [
    "# Build the matrix of user's scores to movies\n",
    "# Remember: The rows are the users and the movies the columns\n",
    "# We can use the ID's as the indexes of the array but the first column and row will be 0\n",
    "nUsers = ratings_df.userId.unique().size\n",
    "nMovies = ratings_df.movieId.unique().size\n",
    "\n",
    "ratingsM = np.zeros((nUsers+1, nMovies+1))\n",
    "for index, rating in ratings_df.iterrows():\n",
    "    ratingsM[int(rating.userId), int(rating.movieId)] = rating.rating_centered\n",
    "    \n",
    "    "
   ]
  },
  {
   "cell_type": "code",
   "execution_count": null,
   "metadata": {},
   "outputs": [],
   "source": [
    "# Collaborative filtering - Memory based\n",
    "# --------------------------------------\n",
    "\n",
    "# Item view: I will recommend movies based on user choice\n",
    "\n",
    "# Let's say that user's chooses movie 102 (check 50/500/449)\n",
    "# What movies can we recommend him?\n",
    "\n",
    "# Get the distances between movies \n",
    "# Because we are dealing with the columns (movies) we have to transpose the matrix\n",
    "distances = cosine_distances(ratingsM.T)\n",
    "\n",
    "myMovie = 50\n",
    "print(\"My movie is: \", movies_df[movies_df.movieId == myMovie].title.iloc[0])\n",
    "print()\n",
    "\n",
    "# ###################################################################\n",
    "# Insert here the code to get the 10 movies closer to my movie\n",
    "# ###################################################################\n"
   ]
  },
  {
   "cell_type": "code",
   "execution_count": null,
   "metadata": {},
   "outputs": [],
   "source": [
    "# Collaborative filtering - Model based\n",
    "# --------------------------------------\n",
    "# First calculate the latent factors matrix using the Alternate Least Squares algorithm\n",
    "# Then make recommendations based on similarity\n",
    "\n",
    "# Metaparameters\n",
    "k = 100        # number of latent factors\n",
    "l = 0.1        # lambda. The same value for x and y\n",
    "accuracy = 0.999\n",
    "\n",
    "# X and Y initialization\n",
    "np.random.seed(42)\n",
    "X = np.random.normal(size=(ratingsM.shape[0], k))\n",
    "Y = np.random.normal(size=(k, ratingsM.shape[1]))\n",
    "\n",
    "# Alternate Least Squares algorithm\n",
    "converged = False\n",
    "pL = np.Inf\n",
    "while not converged:\n",
    "    y = Y.T\n",
    "    inv = np.linalg.inv(y.T.dot(y) + l*np.eye(k))\n",
    "    for u in range(0, X.shape[0]):\n",
    "        X[u] = ratingsM[u,:].dot(y).dot(inv)\n",
    "    \n",
    "    inv = np.linalg.inv(X.T.dot(X) + l*np.eye(k))    \n",
    "    for i in range(0, Y.shape[1]):\n",
    "        Y[:,i] = ratingsM[:,i].dot(X).dot(inv)\n",
    "        \n",
    "    L = np.square(ratingsM - X.dot(Y)).sum()\n",
    "    L = L + l * (np.square(np.linalg.norm(X)) + np.square(np.linalg.norm(Y)))\n",
    "                     \n",
    "    # Improvement stop criteria\n",
    "    converged = (L / pL) > accuracy\n",
    "    \n",
    "    pL = L\n",
    "    "
   ]
  },
  {
   "cell_type": "code",
   "execution_count": null,
   "metadata": {},
   "outputs": [],
   "source": [
    "# Let's make predictions\n",
    "# Get the similarity matrix with the items latent factors\n",
    "myMovie = 50\n",
    "print(\"My movie is: \", movies_df[movies_df.movieId == myMovie].title.iloc[0])\n",
    "print()\n",
    "\n",
    "distances = cosine_distances(Y.T)\n",
    "\n",
    "# #####################################################################\n",
    "# Insert here the code to print the 10 movies closest to my movie\n",
    "# #####################################################################"
   ]
  },
  {
   "cell_type": "code",
   "execution_count": null,
   "metadata": {},
   "outputs": [],
   "source": []
  }
 ],
 "metadata": {
  "kernelspec": {
   "display_name": "Python 3 (ipykernel)",
   "language": "python",
   "name": "python3"
  },
  "language_info": {
   "codemirror_mode": {
    "name": "ipython",
    "version": 3
   },
   "file_extension": ".py",
   "mimetype": "text/x-python",
   "name": "python",
   "nbconvert_exporter": "python",
   "pygments_lexer": "ipython3",
   "version": "3.9.7"
  }
 },
 "nbformat": 4,
 "nbformat_minor": 4
}
